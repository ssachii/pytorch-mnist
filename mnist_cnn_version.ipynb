{
  "nbformat": 4,
  "nbformat_minor": 0,
  "metadata": {
    "colab": {
      "provenance": [],
      "gpuType": "T4",
      "authorship_tag": "ABX9TyOIEGRDTrlsgjWMT3EME/VC",
      "include_colab_link": true
    },
    "kernelspec": {
      "name": "python3",
      "display_name": "Python 3"
    },
    "language_info": {
      "name": "python"
    },
    "accelerator": "GPU"
  },
  "cells": [
    {
      "cell_type": "markdown",
      "metadata": {
        "id": "view-in-github",
        "colab_type": "text"
      },
      "source": [
        "<a href=\"https://colab.research.google.com/github/ssachii/pytorch-mnist/blob/main/mnist_cnn_version.ipynb\" target=\"_parent\"><img src=\"https://colab.research.google.com/assets/colab-badge.svg\" alt=\"Open In Colab\"/></a>"
      ]
    },
    {
      "cell_type": "markdown",
      "source": [
        "- All data and model operations are moved to the GPU.\n",
        "- Uses a Convolutional Neural Network for higher accuracy.\n",
        "- Applies transformations to the training data to improve robustness.\n",
        "- Automatically adjusts the learning rate during training.\n",
        "- Uses batched method for all final evaluations.\n",
        "- Includes overall accuracy, a confusion matrix, a classification report, and per-class accuracy."
      ],
      "metadata": {
        "id": "IQJySgPZFxJo"
      }
    },
    {
      "cell_type": "code",
      "execution_count": 1,
      "metadata": {
        "id": "KTtOy-T4DGJd"
      },
      "outputs": [],
      "source": [
        "import torch\n",
        "from torch import nn, optim\n",
        "from torch.optim.lr_scheduler import StepLR\n",
        "from torchvision import datasets, transforms\n",
        "import numpy as np\n",
        "import matplotlib.pyplot as plt\n",
        "import seaborn as sns\n",
        "from sklearn.metrics import classification_report, confusion_matrix\n",
        "from PIL import Image\n",
        "import os"
      ]
    },
    {
      "cell_type": "code",
      "source": [
        "# configuration and parameters\n",
        "device = torch.device(\"cuda\" if torch.cuda.is_available() else \"cpu\")\n",
        "print(f\"Using device: {device}\")\n",
        "\n",
        "BATCH_SIZE = 128\n",
        "EPOCHS = 10\n",
        "LEARNING_RATE = 0.001\n",
        "LR_STEP_SIZE = 3\n",
        "LR_GAMMA = 0.1"
      ],
      "metadata": {
        "colab": {
          "base_uri": "https://localhost:8080/"
        },
        "id": "BRQN1kZdDIPH",
        "outputId": "de932138-b7e0-4f74-bb01-f19b9b52a3e1"
      },
      "execution_count": 2,
      "outputs": [
        {
          "output_type": "stream",
          "name": "stdout",
          "text": [
            "Using device: cuda\n"
          ]
        }
      ]
    },
    {
      "cell_type": "code",
      "source": [
        "# data loading and preprocessing with augmentation\n",
        "# data augmentation for the training set to improve model robustness\n",
        "transform_train = transforms.Compose([\n",
        "    transforms.RandomAffine(degrees=10, translate=(0.1, 0.1), scale=(0.9, 1.1)),\n",
        "    transforms.ToTensor(),\n",
        "    transforms.Normalize((0.5,), (0.5,)),\n",
        "])\n",
        "\n",
        "# no augmentation for the validation/test set\n",
        "transform_val = transforms.Compose([\n",
        "    transforms.ToTensor(),\n",
        "    transforms.Normalize((0.5,), (0.5,)),\n",
        "])"
      ],
      "metadata": {
        "id": "lqXXCDtzDTAT"
      },
      "execution_count": 3,
      "outputs": []
    },
    {
      "cell_type": "code",
      "source": [
        " # load the full training dataset and apply transforms\n",
        "full_trainset = datasets.MNIST('mnist_data', download=True, train=True, transform=transform_train)\n",
        "\n",
        "# split the dataset into training and validation sets\n",
        "train_size = int(0.9 * len(full_trainset))\n",
        "val_size = len(full_trainset) - train_size\n",
        "trainset, valset = torch.utils.data.random_split(full_trainset, [train_size, val_size])\n",
        "\n",
        "# apply the non-augmented transform to the validation set\n",
        "# we do this by creating a new dataset from the validation subset with the correct transform\n",
        "valset.dataset.transform = transform_val\n",
        "\n",
        "# create DataLoaders\n",
        "trainloader = torch.utils.data.DataLoader(trainset, batch_size=BATCH_SIZE, shuffle=True)\n",
        "valloader = torch.utils.data.DataLoader(valset, batch_size=BATCH_SIZE, shuffle=False)"
      ],
      "metadata": {
        "colab": {
          "base_uri": "https://localhost:8080/"
        },
        "id": "9hkH9bu5DfGD",
        "outputId": "0938d392-6e86-4e1e-edd2-87b2a04c3fd3"
      },
      "execution_count": 4,
      "outputs": [
        {
          "output_type": "stream",
          "name": "stderr",
          "text": [
            "100%|██████████| 9.91M/9.91M [00:00<00:00, 18.6MB/s]\n",
            "100%|██████████| 28.9k/28.9k [00:00<00:00, 496kB/s]\n",
            "100%|██████████| 1.65M/1.65M [00:00<00:00, 4.59MB/s]\n",
            "100%|██████████| 4.54k/4.54k [00:00<00:00, 7.22MB/s]\n"
          ]
        }
      ]
    },
    {
      "cell_type": "code",
      "source": [
        "# model definition (convolutional neural network)\n",
        "# A CNN is much more effective for image tasks than a simple MLP.\n",
        "class SimpleCNN(nn.Module):\n",
        "    def __init__(self):\n",
        "        super().__init__()\n",
        "        self.conv_layers = nn.Sequential(\n",
        "            nn.Conv2d(1, 16, kernel_size=3, stride=1, padding=1),\n",
        "            nn.ReLU(),\n",
        "            nn.MaxPool2d(kernel_size=2),\n",
        "            nn.Conv2d(16, 32, kernel_size=3, stride=1, padding=1),\n",
        "            nn.ReLU(),\n",
        "            nn.MaxPool2d(kernel_size=2)\n",
        "        )\n",
        "        self.fc_layers = nn.Sequential(\n",
        "            nn.Linear(32 * 7 * 7, 128),\n",
        "            nn.ReLU(),\n",
        "            nn.Linear(128, 10)\n",
        "        )\n",
        "\n",
        "    def forward(self, x):\n",
        "        x = self.conv_layers(x)\n",
        "        x = x.view(x.size(0), -1)  # flatten the output for the fully connected layer\n",
        "        x = self.fc_layers(x)\n",
        "        return x"
      ],
      "metadata": {
        "id": "AzV48ALzDr9R"
      },
      "execution_count": 5,
      "outputs": []
    },
    {
      "cell_type": "code",
      "source": [
        "# initialization\n",
        "model = SimpleCNN().to(device)\n",
        "\n",
        "# using CrossEntropyLoss because our CNN outputs raw scores (logits).\n",
        "# this loss function conveniently combines LogSoftmax and NLLLoss.\n",
        "criterion = nn.CrossEntropyLoss()\n",
        "optimizer = optim.Adam(model.parameters(), lr=LEARNING_RATE)\n",
        "scheduler = StepLR(optimizer, step_size=LR_STEP_SIZE, gamma=LR_GAMMA)"
      ],
      "metadata": {
        "id": "CBkHhkcKD9TW"
      },
      "execution_count": 6,
      "outputs": []
    },
    {
      "cell_type": "code",
      "source": [
        "# training and validation loop\n",
        "print(\"\\nStarting training...\")\n",
        "for e in range(EPOCHS):\n",
        "    # training phase\n",
        "    model.train()\n",
        "    running_loss = 0.0\n",
        "    for images, labels in trainloader:\n",
        "        images, labels = images.to(device), labels.to(device)\n",
        "\n",
        "        optimizer.zero_grad()\n",
        "        output = model(images)\n",
        "        loss = criterion(output, labels)\n",
        "        loss.backward()\n",
        "        optimizer.step()\n",
        "\n",
        "        running_loss += loss.item()\n",
        "\n",
        "    # validation phase\n",
        "    model.eval()\n",
        "    val_loss = 0.0\n",
        "    correct = 0\n",
        "    with torch.no_grad():\n",
        "        for images, labels in valloader:\n",
        "            images, labels = images.to(device), labels.to(device)\n",
        "            output = model(images)\n",
        "            val_loss += criterion(output, labels).item()\n",
        "            _, predicted = torch.max(output.data, 1)\n",
        "            correct += (predicted == labels).sum().item()\n",
        "\n",
        "    # step the scheduler\n",
        "    scheduler.step()\n",
        "\n",
        "    avg_train_loss = running_loss / len(trainloader)\n",
        "    avg_val_loss = val_loss / len(valloader)\n",
        "    val_accuracy = correct / len(valset)\n",
        "\n",
        "    print(f\"Epoch {e+1}/{EPOCHS} | Train Loss: {avg_train_loss:.4f} | \"\n",
        "          f\"Val Loss: {avg_val_loss:.4f} | Val Acc: {val_accuracy:.4f} | \"\n",
        "          f\"LR: {scheduler.get_last_lr()[0]:.6f}\")\n",
        "\n",
        "print(\"\\nTraining finished!\")"
      ],
      "metadata": {
        "colab": {
          "base_uri": "https://localhost:8080/"
        },
        "id": "Q5tVd9H2EEfh",
        "outputId": "578af93e-a54a-49e3-8a7f-931d67e7c2c1"
      },
      "execution_count": 7,
      "outputs": [
        {
          "output_type": "stream",
          "name": "stdout",
          "text": [
            "\n",
            "Starting training...\n",
            "Epoch 1/10 | Train Loss: 0.2782 | Val Loss: 0.0958 | Val Acc: 0.9707 | LR: 0.001000\n",
            "Epoch 2/10 | Train Loss: 0.0673 | Val Loss: 0.0797 | Val Acc: 0.9773 | LR: 0.001000\n",
            "Epoch 3/10 | Train Loss: 0.0473 | Val Loss: 0.0671 | Val Acc: 0.9813 | LR: 0.000100\n",
            "Epoch 4/10 | Train Loss: 0.0297 | Val Loss: 0.0525 | Val Acc: 0.9853 | LR: 0.000100\n",
            "Epoch 5/10 | Train Loss: 0.0269 | Val Loss: 0.0539 | Val Acc: 0.9855 | LR: 0.000100\n",
            "Epoch 6/10 | Train Loss: 0.0257 | Val Loss: 0.0518 | Val Acc: 0.9863 | LR: 0.000010\n",
            "Epoch 7/10 | Train Loss: 0.0234 | Val Loss: 0.0510 | Val Acc: 0.9857 | LR: 0.000010\n",
            "Epoch 8/10 | Train Loss: 0.0230 | Val Loss: 0.0510 | Val Acc: 0.9855 | LR: 0.000010\n",
            "Epoch 9/10 | Train Loss: 0.0229 | Val Loss: 0.0512 | Val Acc: 0.9857 | LR: 0.000001\n",
            "Epoch 10/10 | Train Loss: 0.0226 | Val Loss: 0.0512 | Val Acc: 0.9857 | LR: 0.000001\n",
            "\n",
            "Training finished!\n"
          ]
        }
      ]
    },
    {
      "cell_type": "code",
      "source": [
        "# final evaluation on validation set\n",
        "print(\"\\n--- Final Model Evaluation ---\")\n",
        "model.eval()\n",
        "true_labels = []\n",
        "pred_labels = []\n",
        "\n",
        "with torch.no_grad():\n",
        "    for images, labels in valloader:\n",
        "        images, labels = images.to(device), labels.to(device)\n",
        "        outputs = model(images)\n",
        "        _, predicted = torch.max(outputs.data, 1)\n",
        "        true_labels.extend(labels.cpu().numpy())\n",
        "        pred_labels.extend(predicted.cpu().numpy())\n",
        "\n",
        "# confusion matrix\n",
        "conf_matrix = confusion_matrix(true_labels, pred_labels)\n",
        "plt.figure(figsize=(10, 8))\n",
        "sns.heatmap(conf_matrix, annot=True, fmt=\"d\", cmap=\"Blues\",\n",
        "            xticklabels=range(10), yticklabels=range(10))\n",
        "plt.xlabel(\"Predicted Labels\")\n",
        "plt.ylabel(\"True Labels\")\n",
        "plt.title(\"Confusion Matrix\")\n",
        "plt.show()\n",
        "\n",
        "# classification report\n",
        "print(\"\\nClassification Report:\\n\")\n",
        "print(classification_report(true_labels, pred_labels))\n",
        "\n",
        "# per-class accuracy\n",
        "per_class_accuracy = conf_matrix.diagonal() / conf_matrix.sum(axis=1)\n",
        "print(\"\\nPer-Class Accuracy:\\n\")\n",
        "for i, acc in enumerate(per_class_accuracy):\n",
        "    print(f\"Accuracy for digit {i}: {acc:.4f}\")"
      ],
      "metadata": {
        "colab": {
          "base_uri": "https://localhost:8080/",
          "height": 1000
        },
        "id": "3-GqCTRjESVz",
        "outputId": "e0d328dc-b50d-4913-c782-4a894b647769"
      },
      "execution_count": 8,
      "outputs": [
        {
          "output_type": "stream",
          "name": "stdout",
          "text": [
            "\n",
            "--- Final Model Evaluation ---\n"
          ]
        },
        {
          "output_type": "display_data",
          "data": {
            "text/plain": [
              "<Figure size 1000x800 with 2 Axes>"
            ],
            "image/png": "[encoded data removed]"
          },
          "metadata": {}
        },
        {
          "output_type": "stream",
          "name": "stdout",
          "text": [
            "\n",
            "Classification Report:\n",
            "\n",
            "              precision    recall  f1-score   support\n",
            "\n",
            "           0       0.98      0.99      0.99       554\n",
            "           1       0.99      0.99      0.99       683\n",
            "           2       0.98      0.98      0.98       599\n",
            "           3       0.99      0.99      0.99       631\n",
            "           4       0.99      0.99      0.99       564\n",
            "           5       0.98      0.99      0.98       549\n",
            "           6       0.99      0.99      0.99       600\n",
            "           7       0.98      0.99      0.99       643\n",
            "           8       0.98      0.97      0.98       579\n",
            "           9       0.98      0.97      0.98       598\n",
            "\n",
            "    accuracy                           0.99      6000\n",
            "   macro avg       0.99      0.99      0.99      6000\n",
            "weighted avg       0.99      0.99      0.99      6000\n",
            "\n",
            "\n",
            "Per-Class Accuracy:\n",
            "\n",
            "Accuracy for digit 0: 0.9910\n",
            "Accuracy for digit 1: 0.9927\n",
            "Accuracy for digit 2: 0.9783\n",
            "Accuracy for digit 3: 0.9873\n",
            "Accuracy for digit 4: 0.9894\n",
            "Accuracy for digit 5: 0.9854\n",
            "Accuracy for digit 6: 0.9933\n",
            "Accuracy for digit 7: 0.9891\n",
            "Accuracy for digit 8: 0.9741\n",
            "Accuracy for digit 9: 0.9749\n"
          ]
        }
      ]
    },
    {
      "cell_type": "code",
      "source": [
        "# inference on custom user images\n",
        "# define a specific transform pipeline for user images that INCLUDES resizing (for images that are not 28x28)\n",
        "transform_user = transforms.Compose([\n",
        "    transforms.Resize((28, 28)),\n",
        "    transforms.ToTensor(),\n",
        "    transforms.Normalize((0.5,), (0.5,)),\n",
        "])\n",
        "\n",
        "def preprocess_user_image(image_path, transform):\n",
        "    # loads and preprocesses a single user image\n",
        "    try:\n",
        "        user_image = Image.open(image_path).convert(\"L\")  # convert to grayscale\n",
        "        return transform(user_image).unsqueeze(0) # apply transform and add batch dimension\n",
        "    except Exception as e:\n",
        "        print(f\"Error processing image {image_path}: {e}\")\n",
        "        return None\n",
        "\n",
        "def predict_user_image(image_tensor, model):\n",
        "    # makes a prediction on a preprocessed image tensor\n",
        "    model.eval()\n",
        "    with torch.no_grad():\n",
        "        image_tensor = image_tensor.to(device)\n",
        "        output = model(image_tensor)\n",
        "        _, predicted = torch.max(output.data, 1)\n",
        "    return predicted.item()\n",
        "\n"
      ],
      "metadata": {
        "id": "XDbuNEaNEi8l"
      },
      "execution_count": 12,
      "outputs": []
    },
    {
      "cell_type": "code",
      "source": [
        "# create a folder 'my_images' in Colab and upload your digit images there\n",
        "image_folder = 'my_images'\n",
        "if os.path.isdir(image_folder):\n",
        "    print(f\"\\n--- Testing on images in '{image_folder}' folder ---\")\n",
        "    for image_file in os.listdir(image_folder):\n",
        "        user_image_path = os.path.join(image_folder, image_file)\n",
        "        if os.path.isfile(user_image_path):\n",
        "            # use the transform pipeline with the resize step\n",
        "            user_tensor = preprocess_user_image(user_image_path, transform_user)\n",
        "\n",
        "            if user_tensor is not None:\n",
        "                prediction = predict_user_image(user_tensor, model)\n",
        "                print(f\"Image: {image_file}, Predicted Digit: {prediction}\")\n",
        "\n",
        "                # display the image\n",
        "                display_img = Image.open(user_image_path)\n",
        "                plt.imshow(display_img, cmap='gray')\n",
        "                plt.title(f\"Predicted: {prediction}\")\n",
        "                plt.axis('off')\n",
        "                plt.show()\n",
        "else:\n",
        "    print(f\"\\nTo test your own images, create a folder named '{image_folder}' and upload your files.\")"
      ],
      "metadata": {
        "colab": {
          "base_uri": "https://localhost:8080/",
          "height": 480
        },
        "id": "aOmm-LYVEySU",
        "outputId": "c29e7bd4-76cb-4dd4-8315-8dedfd08e845"
      },
      "execution_count": 15,
      "outputs": [
        {
          "output_type": "stream",
          "name": "stdout",
          "text": [
            "\n",
            "--- Testing on images in 'my_images' folder ---\n",
            "Image: mnist_3.jpeg, Predicted Digit: 3\n"
          ]
        },
        {
          "output_type": "display_data",
          "data": {
            "text/plain": [
              "<Figure size 640x480 with 1 Axes>"
            ],
            "image/png": "[encoded data removed]"
          },
          "metadata": {}
        }
      ]
    }
  ]
}